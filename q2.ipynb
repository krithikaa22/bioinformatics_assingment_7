{
 "cells": [
  {
   "cell_type": "code",
   "execution_count": 9,
   "metadata": {},
   "outputs": [
    {
     "name": "stdout",
     "output_type": "stream",
     "text": [
      "RATPTRWPVGCFNRPWTKWSYDEALDGIKAAGYAWTGLLTASKPSLHHATATPEYLAALKQKSRHAA  :  7127\n",
      "AAAVMMGLAAIGAAIGIGILGGKFLEGAARQPDLIPLLRTQFFIVMGLVDAIPMIAVGLGLYVMFAVA  :  6529\n",
      "AADVSAAVGATGQSGMTYRLGLSWDWDKSWWQTSTGRLTGYWDAGYTYWEGGDEGAGKHSLSFAPVFVYEFAGDSIKPFIEAGIGVAAFSGTRVGDQNLGSSLNFEDRIGAGLKFANGQSVGVRAIHYSNAGLKQPNDGIESYSLFYKIPI  :  15453\n"
     ]
    }
   ],
   "source": [
    "amino_acids_weights = {\n",
    "    'Ala': 85,\n",
    "    'Cys': 115,\n",
    "    'Asp': 130,\n",
    "    'Glu': 145,\n",
    "    'Phe': 160,\n",
    "    'Gly': 70,\n",
    "    'Trp': 200,\n",
    "    'His': 150,\n",
    "    'Ile': 125,\n",
    "    'Lys': 145,\n",
    "    'Leu': 125,\n",
    "    'Met': 143,\n",
    "    'Asn': 130,\n",
    "    'Tyr': 175,\n",
    "    'Pro': 110,\n",
    "    'Gln': 140,\n",
    "    'Arg': 170,\n",
    "    'Ser': 100,\n",
    "    'Thr': 115,\n",
    "    'Val': 110\n",
    "}\n",
    "\n",
    "amino_acids_dict = {\n",
    "    'Ala': 'A',\n",
    "    'Arg': 'R',\n",
    "    'Asn': 'N',\n",
    "    'Asp': 'D',\n",
    "    'Cys': 'C',\n",
    "    'Gln': 'Q',\n",
    "    'Glu': 'E',\n",
    "    'Gly': 'G',\n",
    "    'His': 'H',\n",
    "    'Ile': 'I',\n",
    "    'Leu': 'L',\n",
    "    'Lys': 'K',\n",
    "    'Met': 'M',\n",
    "    'Phe': 'F',\n",
    "    'Pro': 'P',\n",
    "    'Ser': 'S',\n",
    "    'Thr': 'T',\n",
    "    'Trp': 'W',\n",
    "    'Tyr': 'Y',\n",
    "    'Val': 'V'\n",
    "}\n",
    "\n",
    "\n",
    "input_sequences = [\n",
    "    'RATPTRWPVGCFNRPWTKWSYDEALDGIKAAGYAWTGLLTASKPSLHHATATPEYLAALKQKSRHAA',\n",
    "    'AAAVMMGLAAIGAAIGIGILGGKFLEGAARQPDLIPLLRTQFFIVMGLVDAIPMIAVGLGLYVMFAVA',\n",
    "    'AADVSAAVGATGQSGMTYRLGLSWDWDKSWWQTSTGRLTGYWDAGYTYWEGGDEGAGKHSLSFAPVFVYEFAGDSIKPFIEAGIGVAAFSGTRVGDQNLGSSLNFEDRIGAGLKFANGQSVGVRAIHYSNAGLKQPNDGIESYSLFYKIPI'\n",
    "]\n",
    "\n",
    "for i in input_sequences:\n",
    "    aas = list(i)\n",
    "    individual_sum = [aas.count(amino_acids_dict[aa])*amino_acids_weights[aa] for aa in amino_acids_dict.keys()]\n",
    "    molecular_weight = sum(individual_sum) - 18*(len(aas)-1)\n",
    "    print(i, \" : \", molecular_weight)"
   ]
  }
 ],
 "metadata": {
  "kernelspec": {
   "display_name": "Python 3",
   "language": "python",
   "name": "python3"
  },
  "language_info": {
   "codemirror_mode": {
    "name": "ipython",
    "version": 3
   },
   "file_extension": ".py",
   "mimetype": "text/x-python",
   "name": "python",
   "nbconvert_exporter": "python",
   "pygments_lexer": "ipython3",
   "version": "3.10.5"
  },
  "orig_nbformat": 4
 },
 "nbformat": 4,
 "nbformat_minor": 2
}
